{
 "cells": [
  {
   "cell_type": "code",
   "execution_count": 66,
   "id": "initial_id",
   "metadata": {
    "ExecuteTime": {
     "end_time": "2024-03-04T21:14:39.754589300Z",
     "start_time": "2024-03-04T21:14:39.727025700Z"
    },
    "collapsed": true
   },
   "outputs": [],
   "source": [
    "import pandas as pd\n",
    "import numpy as np\n",
    "import matplotlib.pyplot as plt\n",
    "import seaborn as sns\n",
    "from sklearn.model_selection import train_test_split\n",
    "from sklearn.svm import SVC\n",
    "from sklearn.metrics import classification_report, confusion_matrix\n",
    "from sklearn.model_selection import GridSearchCV\n",
    "from sklearn.preprocessing import StandardScaler\n",
    "from sklearn.pipeline import Pipeline\n",
    "from sklearn.model_selection import cross_val_score\n",
    "from sklearn.metrics import accuracy_score\n",
    "from sklearn.metrics import precision_score\n",
    "from sklearn.metrics import recall_score\n",
    "from sklearn import svm\n",
    "from sklearn.feature_extraction.text import TfidfVectorizer\n",
    "from sklearn.naive_bayes import MultinomialNB\n",
    "from sklearn.metrics import accuracy_score, confusion_matrix, classification_report\n",
    "from sklearn.linear_model import LogisticRegression\n",
    "from sklearn.feature_extraction.text import CountVectorizer\n",
    "from sklearn.preprocessing import StandardScaler\n",
    "from sklearn.linear_model import LogisticRegression"
   ]
  },
  {
   "cell_type": "code",
   "execution_count": 67,
   "id": "59727670bfb13dbb",
   "metadata": {
    "ExecuteTime": {
     "end_time": "2024-03-04T21:14:40.025522100Z",
     "start_time": "2024-03-04T21:14:39.731039400Z"
    },
    "collapsed": false
   },
   "outputs": [],
   "source": [
    "data = pd.read_csv('Twitter_Data.csv')"
   ]
  },
  {
   "cell_type": "code",
   "execution_count": 68,
   "id": "93c7db04dd33ace6",
   "metadata": {
    "ExecuteTime": {
     "end_time": "2024-03-04T21:14:40.032493600Z",
     "start_time": "2024-03-04T21:14:40.026524100Z"
    },
    "collapsed": false
   },
   "outputs": [
    {
     "data": {
      "text/html": [
       "<div>\n",
       "<style scoped>\n",
       "    .dataframe tbody tr th:only-of-type {\n",
       "        vertical-align: middle;\n",
       "    }\n",
       "\n",
       "    .dataframe tbody tr th {\n",
       "        vertical-align: top;\n",
       "    }\n",
       "\n",
       "    .dataframe thead th {\n",
       "        text-align: right;\n",
       "    }\n",
       "</style>\n",
       "<table border=\"1\" class=\"dataframe\">\n",
       "  <thead>\n",
       "    <tr style=\"text-align: right;\">\n",
       "      <th></th>\n",
       "      <th>clean_text</th>\n",
       "      <th>category</th>\n",
       "    </tr>\n",
       "  </thead>\n",
       "  <tbody>\n",
       "    <tr>\n",
       "      <th>0</th>\n",
       "      <td>when modi promised “minimum government maximum...</td>\n",
       "      <td>-1.0</td>\n",
       "    </tr>\n",
       "    <tr>\n",
       "      <th>1</th>\n",
       "      <td>talk all the nonsense and continue all the dra...</td>\n",
       "      <td>0.0</td>\n",
       "    </tr>\n",
       "    <tr>\n",
       "      <th>2</th>\n",
       "      <td>what did just say vote for modi  welcome bjp t...</td>\n",
       "      <td>1.0</td>\n",
       "    </tr>\n",
       "    <tr>\n",
       "      <th>3</th>\n",
       "      <td>asking his supporters prefix chowkidar their n...</td>\n",
       "      <td>1.0</td>\n",
       "    </tr>\n",
       "    <tr>\n",
       "      <th>4</th>\n",
       "      <td>answer who among these the most powerful world...</td>\n",
       "      <td>1.0</td>\n",
       "    </tr>\n",
       "  </tbody>\n",
       "</table>\n",
       "</div>"
      ],
      "text/plain": [
       "                                          clean_text  category\n",
       "0  when modi promised “minimum government maximum...      -1.0\n",
       "1  talk all the nonsense and continue all the dra...       0.0\n",
       "2  what did just say vote for modi  welcome bjp t...       1.0\n",
       "3  asking his supporters prefix chowkidar their n...       1.0\n",
       "4  answer who among these the most powerful world...       1.0"
      ]
     },
     "execution_count": 68,
     "metadata": {},
     "output_type": "execute_result"
    }
   ],
   "source": [
    "data.head()"
   ]
  },
  {
   "cell_type": "code",
   "execution_count": 69,
   "id": "5b15690256434e62",
   "metadata": {
    "ExecuteTime": {
     "end_time": "2024-03-04T21:14:40.040843100Z",
     "start_time": "2024-03-04T21:14:40.033492500Z"
    },
    "collapsed": false
   },
   "outputs": [
    {
     "data": {
      "text/html": [
       "<div>\n",
       "<style scoped>\n",
       "    .dataframe tbody tr th:only-of-type {\n",
       "        vertical-align: middle;\n",
       "    }\n",
       "\n",
       "    .dataframe tbody tr th {\n",
       "        vertical-align: top;\n",
       "    }\n",
       "\n",
       "    .dataframe thead th {\n",
       "        text-align: right;\n",
       "    }\n",
       "</style>\n",
       "<table border=\"1\" class=\"dataframe\">\n",
       "  <thead>\n",
       "    <tr style=\"text-align: right;\">\n",
       "      <th></th>\n",
       "      <th>clean_text</th>\n",
       "      <th>category</th>\n",
       "    </tr>\n",
       "  </thead>\n",
       "  <tbody>\n",
       "    <tr>\n",
       "      <th>0</th>\n",
       "      <td>when modi promised “minimum government maximum...</td>\n",
       "      <td>-1.0</td>\n",
       "    </tr>\n",
       "    <tr>\n",
       "      <th>1</th>\n",
       "      <td>talk all the nonsense and continue all the dra...</td>\n",
       "      <td>0.0</td>\n",
       "    </tr>\n",
       "    <tr>\n",
       "      <th>2</th>\n",
       "      <td>what did just say vote for modi  welcome bjp t...</td>\n",
       "      <td>1.0</td>\n",
       "    </tr>\n",
       "    <tr>\n",
       "      <th>3</th>\n",
       "      <td>asking his supporters prefix chowkidar their n...</td>\n",
       "      <td>1.0</td>\n",
       "    </tr>\n",
       "    <tr>\n",
       "      <th>4</th>\n",
       "      <td>answer who among these the most powerful world...</td>\n",
       "      <td>1.0</td>\n",
       "    </tr>\n",
       "    <tr>\n",
       "      <th>...</th>\n",
       "      <td>...</td>\n",
       "      <td>...</td>\n",
       "    </tr>\n",
       "    <tr>\n",
       "      <th>162975</th>\n",
       "      <td>why these 456 crores paid neerav modi not reco...</td>\n",
       "      <td>-1.0</td>\n",
       "    </tr>\n",
       "    <tr>\n",
       "      <th>162976</th>\n",
       "      <td>dear rss terrorist payal gawar what about modi...</td>\n",
       "      <td>-1.0</td>\n",
       "    </tr>\n",
       "    <tr>\n",
       "      <th>162977</th>\n",
       "      <td>did you cover her interaction forum where she ...</td>\n",
       "      <td>0.0</td>\n",
       "    </tr>\n",
       "    <tr>\n",
       "      <th>162978</th>\n",
       "      <td>there big project came into india modi dream p...</td>\n",
       "      <td>0.0</td>\n",
       "    </tr>\n",
       "    <tr>\n",
       "      <th>162979</th>\n",
       "      <td>have you ever listen about like gurukul where ...</td>\n",
       "      <td>1.0</td>\n",
       "    </tr>\n",
       "  </tbody>\n",
       "</table>\n",
       "<p>162980 rows × 2 columns</p>\n",
       "</div>"
      ],
      "text/plain": [
       "                                               clean_text  category\n",
       "0       when modi promised “minimum government maximum...      -1.0\n",
       "1       talk all the nonsense and continue all the dra...       0.0\n",
       "2       what did just say vote for modi  welcome bjp t...       1.0\n",
       "3       asking his supporters prefix chowkidar their n...       1.0\n",
       "4       answer who among these the most powerful world...       1.0\n",
       "...                                                   ...       ...\n",
       "162975  why these 456 crores paid neerav modi not reco...      -1.0\n",
       "162976  dear rss terrorist payal gawar what about modi...      -1.0\n",
       "162977  did you cover her interaction forum where she ...       0.0\n",
       "162978  there big project came into india modi dream p...       0.0\n",
       "162979  have you ever listen about like gurukul where ...       1.0\n",
       "\n",
       "[162980 rows x 2 columns]"
      ]
     },
     "execution_count": 69,
     "metadata": {},
     "output_type": "execute_result"
    }
   ],
   "source": [
    "data"
   ]
  },
  {
   "cell_type": "code",
   "execution_count": 70,
   "id": "4d140d4574460198",
   "metadata": {
    "ExecuteTime": {
     "end_time": "2024-03-04T21:14:40.187349600Z",
     "start_time": "2024-03-04T21:14:40.040843100Z"
    },
    "collapsed": false
   },
   "outputs": [
    {
     "name": "stdout",
     "output_type": "stream",
     "text": [
      "clean_text    4\n",
      "category      7\n",
      "dtype: int64\n"
     ]
    }
   ],
   "source": [
    "# check for null values\n",
    "print(data.isnull().sum())\n",
    "# remove null values \n",
    "datanew= data.where((pd.notnull(data)),'')\n",
    "\n"
   ]
  },
  {
   "cell_type": "code",
   "execution_count": 71,
   "id": "1816e79d880914",
   "metadata": {
    "ExecuteTime": {
     "end_time": "2024-03-04T21:14:40.193779100Z",
     "start_time": "2024-03-04T21:14:40.092826900Z"
    },
    "collapsed": false
   },
   "outputs": [
    {
     "data": {
      "text/html": [
       "<div>\n",
       "<style scoped>\n",
       "    .dataframe tbody tr th:only-of-type {\n",
       "        vertical-align: middle;\n",
       "    }\n",
       "\n",
       "    .dataframe tbody tr th {\n",
       "        vertical-align: top;\n",
       "    }\n",
       "\n",
       "    .dataframe thead th {\n",
       "        text-align: right;\n",
       "    }\n",
       "</style>\n",
       "<table border=\"1\" class=\"dataframe\">\n",
       "  <thead>\n",
       "    <tr style=\"text-align: right;\">\n",
       "      <th></th>\n",
       "      <th>clean_text</th>\n",
       "      <th>category</th>\n",
       "    </tr>\n",
       "  </thead>\n",
       "  <tbody>\n",
       "    <tr>\n",
       "      <th>0</th>\n",
       "      <td>when modi promised “minimum government maximum...</td>\n",
       "      <td>-1.0</td>\n",
       "    </tr>\n",
       "    <tr>\n",
       "      <th>1</th>\n",
       "      <td>talk all the nonsense and continue all the dra...</td>\n",
       "      <td>0.0</td>\n",
       "    </tr>\n",
       "    <tr>\n",
       "      <th>2</th>\n",
       "      <td>what did just say vote for modi  welcome bjp t...</td>\n",
       "      <td>1.0</td>\n",
       "    </tr>\n",
       "    <tr>\n",
       "      <th>3</th>\n",
       "      <td>asking his supporters prefix chowkidar their n...</td>\n",
       "      <td>1.0</td>\n",
       "    </tr>\n",
       "    <tr>\n",
       "      <th>4</th>\n",
       "      <td>answer who among these the most powerful world...</td>\n",
       "      <td>1.0</td>\n",
       "    </tr>\n",
       "    <tr>\n",
       "      <th>...</th>\n",
       "      <td>...</td>\n",
       "      <td>...</td>\n",
       "    </tr>\n",
       "    <tr>\n",
       "      <th>162975</th>\n",
       "      <td>why these 456 crores paid neerav modi not reco...</td>\n",
       "      <td>-1.0</td>\n",
       "    </tr>\n",
       "    <tr>\n",
       "      <th>162976</th>\n",
       "      <td>dear rss terrorist payal gawar what about modi...</td>\n",
       "      <td>-1.0</td>\n",
       "    </tr>\n",
       "    <tr>\n",
       "      <th>162977</th>\n",
       "      <td>did you cover her interaction forum where she ...</td>\n",
       "      <td>0.0</td>\n",
       "    </tr>\n",
       "    <tr>\n",
       "      <th>162978</th>\n",
       "      <td>there big project came into india modi dream p...</td>\n",
       "      <td>0.0</td>\n",
       "    </tr>\n",
       "    <tr>\n",
       "      <th>162979</th>\n",
       "      <td>have you ever listen about like gurukul where ...</td>\n",
       "      <td>1.0</td>\n",
       "    </tr>\n",
       "  </tbody>\n",
       "</table>\n",
       "<p>162980 rows × 2 columns</p>\n",
       "</div>"
      ],
      "text/plain": [
       "                                               clean_text category\n",
       "0       when modi promised “minimum government maximum...     -1.0\n",
       "1       talk all the nonsense and continue all the dra...      0.0\n",
       "2       what did just say vote for modi  welcome bjp t...      1.0\n",
       "3       asking his supporters prefix chowkidar their n...      1.0\n",
       "4       answer who among these the most powerful world...      1.0\n",
       "...                                                   ...      ...\n",
       "162975  why these 456 crores paid neerav modi not reco...     -1.0\n",
       "162976  dear rss terrorist payal gawar what about modi...     -1.0\n",
       "162977  did you cover her interaction forum where she ...      0.0\n",
       "162978  there big project came into india modi dream p...      0.0\n",
       "162979  have you ever listen about like gurukul where ...      1.0\n",
       "\n",
       "[162980 rows x 2 columns]"
      ]
     },
     "execution_count": 71,
     "metadata": {},
     "output_type": "execute_result"
    }
   ],
   "source": [
    "datanew\n"
   ]
  },
  {
   "cell_type": "code",
   "execution_count": 72,
   "id": "e4a76cb938b87339",
   "metadata": {
    "ExecuteTime": {
     "end_time": "2024-03-04T21:14:40.216341600Z",
     "start_time": "2024-03-04T21:14:40.101465700Z"
    },
    "collapsed": false
   },
   "outputs": [
    {
     "name": "stdout",
     "output_type": "stream",
     "text": [
      "clean_text    0\n",
      "category      0\n",
      "dtype: int64\n",
      "False\n"
     ]
    }
   ],
   "source": [
    "print(datanew.isnull().sum())\n",
    "# Check if there are any NaN values in the DataFrame\n",
    "any_nan_in_df = datanew.isna().any().any()\n",
    "\n",
    "# Print the result\n",
    "print(any_nan_in_df)"
   ]
  },
  {
   "cell_type": "code",
   "execution_count": 73,
   "id": "8d9012eb1dc83d53",
   "metadata": {
    "ExecuteTime": {
     "end_time": "2024-03-04T21:14:40.217337700Z",
     "start_time": "2024-03-04T21:14:40.139647100Z"
    },
    "collapsed": false
   },
   "outputs": [
    {
     "data": {
      "text/html": [
       "<div>\n",
       "<style scoped>\n",
       "    .dataframe tbody tr th:only-of-type {\n",
       "        vertical-align: middle;\n",
       "    }\n",
       "\n",
       "    .dataframe tbody tr th {\n",
       "        vertical-align: top;\n",
       "    }\n",
       "\n",
       "    .dataframe thead th {\n",
       "        text-align: right;\n",
       "    }\n",
       "</style>\n",
       "<table border=\"1\" class=\"dataframe\">\n",
       "  <thead>\n",
       "    <tr style=\"text-align: right;\">\n",
       "      <th></th>\n",
       "      <th>clean_text</th>\n",
       "      <th>category</th>\n",
       "    </tr>\n",
       "  </thead>\n",
       "  <tbody>\n",
       "    <tr>\n",
       "      <th>0</th>\n",
       "      <td>when modi promised “minimum government maximum...</td>\n",
       "      <td>-1</td>\n",
       "    </tr>\n",
       "    <tr>\n",
       "      <th>1</th>\n",
       "      <td>talk all the nonsense and continue all the dra...</td>\n",
       "      <td>0</td>\n",
       "    </tr>\n",
       "    <tr>\n",
       "      <th>2</th>\n",
       "      <td>what did just say vote for modi  welcome bjp t...</td>\n",
       "      <td>1</td>\n",
       "    </tr>\n",
       "    <tr>\n",
       "      <th>3</th>\n",
       "      <td>asking his supporters prefix chowkidar their n...</td>\n",
       "      <td>1</td>\n",
       "    </tr>\n",
       "    <tr>\n",
       "      <th>4</th>\n",
       "      <td>answer who among these the most powerful world...</td>\n",
       "      <td>1</td>\n",
       "    </tr>\n",
       "    <tr>\n",
       "      <th>...</th>\n",
       "      <td>...</td>\n",
       "      <td>...</td>\n",
       "    </tr>\n",
       "    <tr>\n",
       "      <th>162975</th>\n",
       "      <td>why these 456 crores paid neerav modi not reco...</td>\n",
       "      <td>-1</td>\n",
       "    </tr>\n",
       "    <tr>\n",
       "      <th>162976</th>\n",
       "      <td>dear rss terrorist payal gawar what about modi...</td>\n",
       "      <td>-1</td>\n",
       "    </tr>\n",
       "    <tr>\n",
       "      <th>162977</th>\n",
       "      <td>did you cover her interaction forum where she ...</td>\n",
       "      <td>0</td>\n",
       "    </tr>\n",
       "    <tr>\n",
       "      <th>162978</th>\n",
       "      <td>there big project came into india modi dream p...</td>\n",
       "      <td>0</td>\n",
       "    </tr>\n",
       "    <tr>\n",
       "      <th>162979</th>\n",
       "      <td>have you ever listen about like gurukul where ...</td>\n",
       "      <td>1</td>\n",
       "    </tr>\n",
       "  </tbody>\n",
       "</table>\n",
       "<p>162980 rows × 2 columns</p>\n",
       "</div>"
      ],
      "text/plain": [
       "                                               clean_text  category\n",
       "0       when modi promised “minimum government maximum...        -1\n",
       "1       talk all the nonsense and continue all the dra...         0\n",
       "2       what did just say vote for modi  welcome bjp t...         1\n",
       "3       asking his supporters prefix chowkidar their n...         1\n",
       "4       answer who among these the most powerful world...         1\n",
       "...                                                   ...       ...\n",
       "162975  why these 456 crores paid neerav modi not reco...        -1\n",
       "162976  dear rss terrorist payal gawar what about modi...        -1\n",
       "162977  did you cover her interaction forum where she ...         0\n",
       "162978  there big project came into india modi dream p...         0\n",
       "162979  have you ever listen about like gurukul where ...         1\n",
       "\n",
       "[162980 rows x 2 columns]"
      ]
     },
     "execution_count": 73,
     "metadata": {},
     "output_type": "execute_result"
    }
   ],
   "source": [
    "# Convert the 'category' column to integer\n",
    "# Replace empty strings with -1\n",
    "datanew['category'] = datanew['category'].replace('', '-1')\n",
    "\n",
    "# Convert the 'category' column to integer\n",
    "datanew['category'] = datanew['category'].astype(int)\n",
    "\n",
    "datanew"
   ]
  },
  {
   "cell_type": "code",
   "execution_count": 74,
   "id": "ae94b2e6c2860700",
   "metadata": {
    "ExecuteTime": {
     "end_time": "2024-03-04T21:14:40.218459200Z",
     "start_time": "2024-03-04T21:14:40.171153900Z"
    },
    "collapsed": false
   },
   "outputs": [
    {
     "name": "stdout",
     "output_type": "stream",
     "text": [
      "0         when modi promised “minimum government maximum...\n",
      "1         talk all the nonsense and continue all the dra...\n",
      "2         what did just say vote for modi  welcome bjp t...\n",
      "3         asking his supporters prefix chowkidar their n...\n",
      "4         answer who among these the most powerful world...\n",
      "                                ...                        \n",
      "162975    why these 456 crores paid neerav modi not reco...\n",
      "162976    dear rss terrorist payal gawar what about modi...\n",
      "162977    did you cover her interaction forum where she ...\n",
      "162978    there big project came into india modi dream p...\n",
      "162979    have you ever listen about like gurukul where ...\n",
      "Name: clean_text, Length: 162980, dtype: object\n",
      "0        -1\n",
      "1         0\n",
      "2         1\n",
      "3         1\n",
      "4         1\n",
      "         ..\n",
      "162975   -1\n",
      "162976   -1\n",
      "162977    0\n",
      "162978    0\n",
      "162979    1\n",
      "Name: category, Length: 162980, dtype: int32\n",
      "143775    they always say har bar modi sarkar”\\nbut neve...\n",
      "126330    its voilation mcc not how can gov release paym...\n",
      "140459    wonderful sentence north eastern friend congre...\n",
      "30294     which govt approved the loan nirav and vijay m...\n",
      "76423                                       great aap modi \n",
      "                                ...                        \n",
      "156437    most friends criticize for supporting modi and...\n",
      "104704    referring the modi says india has gained the a...\n",
      "48056     think modi knows losing out desperation trying...\n",
      "77049     apparently rss and modi fanboy also womanizer ...\n",
      "71530     there already accepted that democracys elected...\n",
      "Name: clean_text, Length: 130384, dtype: object\n",
      "160407    this jawan sacked our army itself because want...\n",
      "46224     this was just announced modi you have alzheime...\n",
      "80529     wonder what drama store when goes poll will mu...\n",
      "28505     and can term any leader names who can fill the...\n",
      "150260    narendra modi take oath office sanskrit sign t...\n",
      "                                ...                        \n",
      "21724     dear ape bhi jumla marna chalu kar diye least ...\n",
      "45656     prime minister narendra mod live mission shakt...\n",
      "145513    why concerning you want her say yes know for f...\n",
      "132582    modi has not done any thing last years can cre...\n",
      "80619     terming these raids real and open surgical str...\n",
      "Name: clean_text, Length: 32596, dtype: object\n",
      "143775    0\n",
      "126330    0\n",
      "140459    1\n",
      "30294    -1\n",
      "76423     1\n",
      "         ..\n",
      "156437    1\n",
      "104704    0\n",
      "48056     0\n",
      "77049     1\n",
      "71530     0\n",
      "Name: category, Length: 130384, dtype: int32\n",
      "160407    1\n",
      "46224     0\n",
      "80529     1\n",
      "28505     0\n",
      "150260    0\n",
      "         ..\n",
      "21724    -1\n",
      "45656    -1\n",
      "145513    1\n",
      "132582    0\n",
      "80619    -1\n",
      "Name: category, Length: 32596, dtype: int32\n"
     ]
    }
   ],
   "source": [
    "X = datanew['clean_text']\n",
    "Y = datanew['category']\n",
    "\n",
    "print(X)\n",
    "print(Y)\n",
    "\n",
    "X_train, X_test, Y_train, Y_test = train_test_split(X, Y, test_size=0.2, random_state=3)\n",
    "\n",
    "print(X_train)\n",
    "print(X_test)\n",
    "print(Y_train)\n",
    "print(Y_test)\n",
    "\n"
   ]
  },
  {
   "cell_type": "code",
   "execution_count": 75,
   "id": "e57abe20ceff9fe2",
   "metadata": {
    "ExecuteTime": {
     "end_time": "2024-03-04T21:14:42.437223700Z",
     "start_time": "2024-03-04T21:14:40.192766200Z"
    },
    "collapsed": false
   },
   "outputs": [],
   "source": [
    "vectorizer = TfidfVectorizer(min_df=1, stop_words='english', lowercase=True)\n",
    "\n",
    "X_train_features = vectorizer.fit_transform(X_train)\n",
    "X_test_features = vectorizer.transform(X_test)\n",
    "\n",
    "Y_train = Y_train.astype('int')\n",
    "Y_test = Y_test.astype('int')\n"
   ]
  },
  {
   "cell_type": "code",
   "execution_count": 76,
   "id": "69f3907eb1690f3",
   "metadata": {
    "ExecuteTime": {
     "end_time": "2024-03-04T21:14:42.455929100Z",
     "start_time": "2024-03-04T21:14:42.438291600Z"
    },
    "collapsed": false
   },
   "outputs": [
    {
     "name": "stdout",
     "output_type": "stream",
     "text": [
      "  (0, 9010)\t0.309423778589699\n",
      "  (0, 73565)\t0.6798319432368337\n",
      "  (0, 54395)\t0.13746253624974716\n",
      "  (0, 11176)\t0.4222137589914481\n",
      "  (0, 37209)\t0.4111523437032897\n",
      "  (0, 73908)\t0.27546106314957447\n",
      "  (1, 28373)\t0.21059017556616513\n",
      "  (1, 84083)\t0.2131633701429259\n",
      "  (1, 62887)\t0.43368575564784984\n",
      "  (1, 70220)\t0.33508320507642925\n",
      "  (1, 35312)\t0.3593266937168353\n",
      "  (1, 52621)\t0.38407871465394494\n",
      "  (1, 88973)\t0.5772494562496218\n",
      "  (2, 60575)\t0.17824614286101384\n",
      "  (2, 20733)\t0.20505852407616756\n",
      "  (2, 9472)\t0.17178526678057887\n",
      "  (2, 63166)\t0.08934323998631023\n",
      "  (2, 25502)\t0.13199299404178552\n",
      "  (2, 79378)\t0.17661274930657056\n",
      "  (2, 78507)\t0.34581494041037564\n",
      "  (2, 27889)\t0.3577518390606472\n",
      "  (2, 34103)\t0.41030556186795336\n",
      "  (2, 20519)\t0.09191696682345521\n",
      "  (2, 33030)\t0.1695559546136999\n",
      "  (2, 27893)\t0.21763842753634283\n",
      "  :\t:\n",
      "  (130382, 53971)\t0.3221455281201543\n",
      "  (130382, 90877)\t0.3390142323805227\n",
      "  (130382, 4589)\t0.31516191585252185\n",
      "  (130382, 55582)\t0.2587402935051775\n",
      "  (130382, 31037)\t0.3278515548154416\n",
      "  (130382, 8200)\t0.26124535014674866\n",
      "  (130382, 61176)\t0.25805990800231177\n",
      "  (130382, 90872)\t0.24247930737874993\n",
      "  (130382, 72174)\t0.186953788552652\n",
      "  (130382, 32081)\t0.3061584737251569\n",
      "  (130382, 71438)\t0.15465109731339757\n",
      "  (130382, 34749)\t0.16226837104206548\n",
      "  (130382, 54395)\t0.03667421209133006\n",
      "  (130383, 28463)\t0.4537622640014125\n",
      "  (130383, 24240)\t0.4385381640904281\n",
      "  (130383, 18264)\t0.3213571226579406\n",
      "  (130383, 74987)\t0.3129786958790002\n",
      "  (130383, 4653)\t0.2926673093681165\n",
      "  (130383, 87182)\t0.2615956691800233\n",
      "  (130383, 24220)\t0.22214964136139226\n",
      "  (130383, 28362)\t0.24652175847057956\n",
      "  (130383, 66547)\t0.22347003235639643\n",
      "  (130383, 90208)\t0.24397644001305757\n",
      "  (130383, 84083)\t0.15795208026344099\n",
      "  (130383, 54395)\t0.04399903501325236\n",
      "  (0, 89508)\t0.20667917868708063\n",
      "  (0, 89497)\t0.23998812355872562\n",
      "  (0, 88452)\t0.2161484240754407\n",
      "  (0, 85393)\t0.20389930481439536\n",
      "  (0, 72672)\t0.28412414368163486\n",
      "  (0, 69455)\t0.23575200589852371\n",
      "  (0, 54395)\t0.043292241743449755\n",
      "  (0, 51205)\t0.19947000309885662\n",
      "  (0, 43927)\t0.27133684325721436\n",
      "  (0, 31814)\t0.24103873741281218\n",
      "  (0, 30939)\t0.6441427924335391\n",
      "  (0, 30832)\t0.20212280404759272\n",
      "  (0, 8628)\t0.21431143663365834\n",
      "  (1, 70358)\t0.37187393699006954\n",
      "  (1, 54395)\t0.07207588989806366\n",
      "  (1, 45276)\t0.2484092248946077\n",
      "  (1, 25502)\t0.32519764742401996\n",
      "  (1, 7533)\t0.3695010733318324\n",
      "  (1, 6829)\t0.7433190062057307\n",
      "  (2, 90915)\t0.23732790703620182\n",
      "  (2, 84083)\t0.1516410050386621\n",
      "  (2, 81077)\t0.30645670481793524\n",
      "  (2, 79623)\t0.331442599394585\n",
      "  (2, 79109)\t0.3904735263280383\n",
      "  (2, 65073)\t0.22937263230043628\n",
      "  :\t:\n",
      "  (32594, 83488)\t0.2517825161096697\n",
      "  (32594, 77195)\t0.31455422032571057\n",
      "  (32594, 54395)\t0.1087439266842226\n",
      "  (32594, 49284)\t0.16941161353278839\n",
      "  (32594, 27083)\t0.3121972877785444\n",
      "  (32594, 22029)\t0.32496549381215933\n",
      "  (32594, 22020)\t0.3011484858970093\n",
      "  (32594, 6411)\t0.5607383247584208\n",
      "  (32595, 82580)\t0.3276859441707761\n",
      "  (32595, 80976)\t0.18400593776527877\n",
      "  (32595, 79859)\t0.20661140098837658\n",
      "  (32595, 71187)\t0.26287518710579033\n",
      "  (32595, 69431)\t0.17773869993558622\n",
      "  (32595, 68539)\t0.23796739535533226\n",
      "  (32595, 66380)\t0.14880452750361658\n",
      "  (32595, 65477)\t0.19405908191738383\n",
      "  (32595, 60451)\t0.20638545466461516\n",
      "  (32595, 59911)\t0.23903952239999465\n",
      "  (32595, 53664)\t0.2868520413950481\n",
      "  (32595, 38006)\t0.23012247970803332\n",
      "  (32595, 33686)\t0.21243838418391886\n",
      "  (32595, 20888)\t0.25859093313941633\n",
      "  (32595, 17930)\t0.18762071408438882\n",
      "  (32595, 10737)\t0.3877413045099554\n",
      "  (32595, 6523)\t0.25774284203355285\n",
      "143775    0\n",
      "126330    0\n",
      "140459    1\n",
      "30294    -1\n",
      "76423     1\n",
      "         ..\n",
      "156437    1\n",
      "104704    0\n",
      "48056     0\n",
      "77049     1\n",
      "71530     0\n",
      "Name: category, Length: 130384, dtype: int32\n",
      "160407    1\n",
      "46224     0\n",
      "80529     1\n",
      "28505     0\n",
      "150260    0\n",
      "         ..\n",
      "21724    -1\n",
      "45656    -1\n",
      "145513    1\n",
      "132582    0\n",
      "80619    -1\n",
      "Name: category, Length: 32596, dtype: int32\n"
     ]
    }
   ],
   "source": [
    "print(X_train_features)\n",
    "print(X_test_features)\n",
    "print(Y_train)\n",
    "print(Y_test)"
   ]
  },
  {
   "cell_type": "code",
   "execution_count": 77,
   "id": "ad4f5d2a9f6aeb70",
   "metadata": {
    "ExecuteTime": {
     "end_time": "2024-03-04T21:15:46.693183600Z",
     "start_time": "2024-03-04T21:14:42.459583800Z"
    },
    "collapsed": false
   },
   "outputs": [
    {
     "data": {
      "text/html": [
       "<style>#sk-container-id-4 {color: black;}#sk-container-id-4 pre{padding: 0;}#sk-container-id-4 div.sk-toggleable {background-color: white;}#sk-container-id-4 label.sk-toggleable__label {cursor: pointer;display: block;width: 100%;margin-bottom: 0;padding: 0.3em;box-sizing: border-box;text-align: center;}#sk-container-id-4 label.sk-toggleable__label-arrow:before {content: \"▸\";float: left;margin-right: 0.25em;color: #696969;}#sk-container-id-4 label.sk-toggleable__label-arrow:hover:before {color: black;}#sk-container-id-4 div.sk-estimator:hover label.sk-toggleable__label-arrow:before {color: black;}#sk-container-id-4 div.sk-toggleable__content {max-height: 0;max-width: 0;overflow: hidden;text-align: left;background-color: #f0f8ff;}#sk-container-id-4 div.sk-toggleable__content pre {margin: 0.2em;color: black;border-radius: 0.25em;background-color: #f0f8ff;}#sk-container-id-4 input.sk-toggleable__control:checked~div.sk-toggleable__content {max-height: 200px;max-width: 100%;overflow: auto;}#sk-container-id-4 input.sk-toggleable__control:checked~label.sk-toggleable__label-arrow:before {content: \"▾\";}#sk-container-id-4 div.sk-estimator input.sk-toggleable__control:checked~label.sk-toggleable__label {background-color: #d4ebff;}#sk-container-id-4 div.sk-label input.sk-toggleable__control:checked~label.sk-toggleable__label {background-color: #d4ebff;}#sk-container-id-4 input.sk-hidden--visually {border: 0;clip: rect(1px 1px 1px 1px);clip: rect(1px, 1px, 1px, 1px);height: 1px;margin: -1px;overflow: hidden;padding: 0;position: absolute;width: 1px;}#sk-container-id-4 div.sk-estimator {font-family: monospace;background-color: #f0f8ff;border: 1px dotted black;border-radius: 0.25em;box-sizing: border-box;margin-bottom: 0.5em;}#sk-container-id-4 div.sk-estimator:hover {background-color: #d4ebff;}#sk-container-id-4 div.sk-parallel-item::after {content: \"\";width: 100%;border-bottom: 1px solid gray;flex-grow: 1;}#sk-container-id-4 div.sk-label:hover label.sk-toggleable__label {background-color: #d4ebff;}#sk-container-id-4 div.sk-serial::before {content: \"\";position: absolute;border-left: 1px solid gray;box-sizing: border-box;top: 0;bottom: 0;left: 50%;z-index: 0;}#sk-container-id-4 div.sk-serial {display: flex;flex-direction: column;align-items: center;background-color: white;padding-right: 0.2em;padding-left: 0.2em;position: relative;}#sk-container-id-4 div.sk-item {position: relative;z-index: 1;}#sk-container-id-4 div.sk-parallel {display: flex;align-items: stretch;justify-content: center;background-color: white;position: relative;}#sk-container-id-4 div.sk-item::before, #sk-container-id-4 div.sk-parallel-item::before {content: \"\";position: absolute;border-left: 1px solid gray;box-sizing: border-box;top: 0;bottom: 0;left: 50%;z-index: -1;}#sk-container-id-4 div.sk-parallel-item {display: flex;flex-direction: column;z-index: 1;position: relative;background-color: white;}#sk-container-id-4 div.sk-parallel-item:first-child::after {align-self: flex-end;width: 50%;}#sk-container-id-4 div.sk-parallel-item:last-child::after {align-self: flex-start;width: 50%;}#sk-container-id-4 div.sk-parallel-item:only-child::after {width: 0;}#sk-container-id-4 div.sk-dashed-wrapped {border: 1px dashed gray;margin: 0 0.4em 0.5em 0.4em;box-sizing: border-box;padding-bottom: 0.4em;background-color: white;}#sk-container-id-4 div.sk-label label {font-family: monospace;font-weight: bold;display: inline-block;line-height: 1.2em;}#sk-container-id-4 div.sk-label-container {text-align: center;}#sk-container-id-4 div.sk-container {/* jupyter's `normalize.less` sets `[hidden] { display: none; }` but bootstrap.min.css set `[hidden] { display: none !important; }` so we also need the `!important` here to be able to override the default hidden behavior on the sphinx rendered scikit-learn.org. See: https://github.com/scikit-learn/scikit-learn/issues/21755 */display: inline-block !important;position: relative;}#sk-container-id-4 div.sk-text-repr-fallback {display: none;}</style><div id=\"sk-container-id-4\" class=\"sk-top-container\"><div class=\"sk-text-repr-fallback\"><pre>LogisticRegression(max_iter=10000)</pre><b>In a Jupyter environment, please rerun this cell to show the HTML representation or trust the notebook. <br />On GitHub, the HTML representation is unable to render, please try loading this page with nbviewer.org.</b></div><div class=\"sk-container\" hidden><div class=\"sk-item\"><div class=\"sk-estimator sk-toggleable\"><input class=\"sk-toggleable__control sk-hidden--visually\" id=\"sk-estimator-id-4\" type=\"checkbox\" checked><label for=\"sk-estimator-id-4\" class=\"sk-toggleable__label sk-toggleable__label-arrow\">LogisticRegression</label><div class=\"sk-toggleable__content\"><pre>LogisticRegression(max_iter=10000)</pre></div></div></div></div></div>"
      ],
      "text/plain": [
       "LogisticRegression(max_iter=10000)"
      ]
     },
     "execution_count": 77,
     "metadata": {},
     "output_type": "execute_result"
    }
   ],
   "source": [
    "\n",
    "from sklearn.preprocessing import StandardScaler\n",
    "from sklearn.linear_model import LogisticRegression\n",
    "\n",
    "# Scale the data\n",
    "scaler = StandardScaler(with_mean=False)\n",
    "X_train_scaled = scaler.fit_transform(X_train_features)\n",
    "X_test_scaled = scaler.transform(X_test_features)\n",
    "\n",
    "# Increase the number of iterations and fit the model\n",
    "logistic = LogisticRegression(max_iter=10000)\n",
    "logistic.fit(X_train_scaled, Y_train)"
   ]
  },
  {
   "cell_type": "code",
   "execution_count": 78,
   "id": "4b9370c0d841f99c",
   "metadata": {
    "ExecuteTime": {
     "end_time": "2024-03-04T21:15:46.723325500Z",
     "start_time": "2024-03-04T21:15:46.687275Z"
    },
    "collapsed": false
   },
   "outputs": [
    {
     "name": "stdout",
     "output_type": "stream",
     "text": [
      " acuuray on training data:  0.9845149711621057\n",
      " acuuray on testing data:  0.7212234630015952\n"
     ]
    }
   ],
   "source": [
    "prediction_on_training = logistic.predict(X_train_scaled)\n",
    "prediction_on_testing = logistic.predict(X_test_scaled)\n",
    "\n",
    "accuracy_on_training = accuracy_score(Y_train, prediction_on_training)\n",
    "accuracy_on_testing = accuracy_score(Y_test, prediction_on_testing)\n",
    "\n",
    "print(\" acuuray on training data: \", accuracy_on_training)\n",
    "print(\" acuuray on testing data: \", accuracy_on_testing)\n",
    "\n"
   ]
  },
  {
   "cell_type": "code",
   "execution_count": null,
   "id": "32566f342d8860ab",
   "metadata": {
    "collapsed": false,
    "is_executing": true
   },
   "outputs": [],
   "source": [
    "#  create a predictive model\n",
    "input_text = [input(\"Enter a tweet : \")]\n",
    "input_text_features = vectorizer.transform(input_text)\n",
    "input_text_scaled = scaler.transform(input_text_features)\n",
    "prediction = logistic.predict(input_text_scaled)\n",
    "\n",
    "if(prediction[0] == -1):\n",
    "    print(\"The tweet is neutral\")\n",
    "elif(prediction[0] == 0):\n",
    "    print(\"The tweet is negative\")\n",
    "else:\n",
    "    print(\"The tweet is positive\")\n",
    "    "
   ]
  }
 ],
 "metadata": {
  "kernelspec": {
   "display_name": "Python 3",
   "language": "python",
   "name": "python3"
  },
  "language_info": {
   "codemirror_mode": {
    "name": "ipython",
    "version": 2
   },
   "file_extension": ".py",
   "mimetype": "text/x-python",
   "name": "python",
   "nbconvert_exporter": "python",
   "pygments_lexer": "ipython2",
   "version": "2.7.6"
  }
 },
 "nbformat": 4,
 "nbformat_minor": 5
}
